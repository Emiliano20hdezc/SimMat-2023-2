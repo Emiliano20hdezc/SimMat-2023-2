{
 "cells": [
  {
   "cell_type": "markdown",
   "metadata": {},
   "source": [
    "# Programación lineal"
   ]
  },
  {
   "cell_type": "markdown",
   "metadata": {},
   "source": [
    "> La programación lineal es el campo de la optimización matemática dedicado a maximizar o minimizar (optimizar) funciones lineales, denominada función objetivo, de tal forma que las variables de dicha función estén sujetas a una serie de restricciones expresadas mediante un sistema de ecuaciones o inecuaciones también lineales.\n",
    "\n",
    "\n",
    "<img style=\"float: right; margin: 0px 0px 15px 15px;\" src=\"https://upload.wikimedia.org/wikipedia/commons/thumb/0/0c/Linear_Programming_Feasible_Region.svg/2000px-Linear_Programming_Feasible_Region.svg.png\" width=\"400px\" height=\"125px\" />\n",
    "\n",
    "<img style=\"float: center\" src=\"https://upload.wikimedia.org/wikipedia/commons/thumb/e/ef/3dpoly.svg/220px-3dpoly.svg.png\" width=\"350px\" height=\"125px\" />\n",
    "\n",
    "\n",
    "**Referencias:**\n",
    "- https://es.wikipedia.org/wiki/Programaci%C3%B3n_lineal\n",
    "- https://docs.scipy.org/doc/scipy-0.18.1/reference/optimize.html\n",
    "- http://bdigital.unal.edu.co/5037/4/guillermojimenezlozano.2006_Parte1.pdf "
   ]
  },
  {
   "cell_type": "markdown",
   "metadata": {},
   "source": [
    "## 1. Apuntes históricos\n",
    "\n",
    "<img style=\"float: right\" src=\"https://upload.wikimedia.org/wikipedia/commons/5/5e/JohnvonNeumann-LosAlamos.gif\" width=\"200px\" height=\"125px\" />\n",
    "\n",
    "\n",
    "- 1826:\tJoseph Fourier anticipa la programación lineal. Carl Friedrich Gauss resuelve ecuaciones lineales por eliminación \"gaussiana\".\n",
    "- 1902:\tGyula Farkas concibe un método para resolver sistemas de inecuaciones.\n",
    "- Es hasta la Segunda Guerra Mundial que se plantea la programación lineal como un modelo matemático para planificar gastos y retornos, de modo que se reduzcan costos de guerra y aumentar pérdidas del enemigo. Secreto hasta 1947 (posguerra).\n",
    "- 1947:\tGeorge Dantzig publica el algoritmo simplex y John von Neumann desarrolló la teoría de la dualidad. Se sabe que Leonid Kantoróvich también formuló la teoría en forma independiente.\n",
    "- Fue usado por muchas industrias en la planificación diaria.\n",
    "\n",
    "**Hasta acá, tiempos exponenciales de solución. Lo siguiente, tiempo polinomial.**\n",
    "\n",
    "- 1979: Leonid Khachiyan, diseñó el llamado Algoritmo del elipsoide, a través del cual demostró que el problema de la programación lineal es resoluble de manera eficiente, es decir, en tiempo polinomial.\n",
    "- 1984: Narendra Karmarkar introduce el método del punto interior para resolver problemas de programación lineal.\n",
    "\n",
    "<img style=\"float: center\" src=\"https://upload.wikimedia.org/wikipedia/commons/thumb/e/ef/Simplex-description-en.svg/240px-Simplex-description-en.svg.png\" width=\"200px\" height=\"125px\" />"
   ]
  },
  {
   "cell_type": "markdown",
   "metadata": {},
   "source": [
    "## 2. Motivación\n",
    "\n",
    "Ya la clase pasada habíamos mencionado que cuando se quería optimizar una función de varias variables con restricciones, se podía aplicar siempre el método de [Multiplicadores de Lagrange](https://es.khanacademy.org/math/multivariable-calculus/applications-of-multivariable-derivatives/constrained-optimization/a/lagrange-multipliers-single-constraint). Sin embargo, este método es computacionalmente muy complejo conforme crece el número de variables.\n",
    "\n",
    "Por tanto, cuando la función a optimizar y las restricciones son de caracter lineal, los métodos de solución que se pueden desarrollar son computacionalmente eficientes, por lo que es útil realizar la distinción."
   ]
  },
  {
   "cell_type": "markdown",
   "metadata": {},
   "source": [
    "## 3. Problemas de programación lineal\n",
    "### 3.1. En general\n",
    "Un problema de programación lineal puede escribirse en la siguiente forma:\n",
    "\n",
    "\\begin{equation}\n",
    "\\begin{array}{ll}\n",
    "\\min_{x_1,\\dots,x_n} & c_1x_1+\\dots+c_nx_n \\\\\n",
    "\\text{s. a. }        & a^{eq}_{j,1}x_1+\\dots+a^{eq}_{j,n}x_n=b^{eq}_j \\text{ para } 1\\leq j\\leq m_1 \\\\\n",
    "                     & a_{k,1}x_1+\\dots+a_{k,n}x_n\\leq b_k \\text{ para } 1\\leq k\\leq m_2,\n",
    "\\end{array}\n",
    "\\end{equation}\n",
    "donde:\n",
    "- $x_i$ para $i=1,\\dots,n$ son las incógnitas o variables de decisión,\n",
    "- $c_i$ para $i=1,\\dots,n$ son los coeficientes de la función a optimizar,\n",
    "- $a^{eq}_{j,i}$ para $j=1,\\dots,m_1$ e $i=1,\\dots,n$, son los coeficientes de la restricción de igualdad,\n",
    "- $a_{k,i}$ para $k=1,\\dots,m_2$ e $i=1,\\dots,n$, son los coeficientes de la restricción de desigualdad,\n",
    "- $b^{eq}_j$ para $j=1,\\dots,m_1$ son valores conocidos que deben ser respetados estrictamente, y\n",
    "- $b_k$ para $k=1,\\dots,m_2$ son valores conocidos que no deben ser superados.\n",
    "\n",
    "Equivalentemente, el problema puede escribirse como\n",
    "\n",
    "\\begin{equation}\n",
    "\\begin{array}{ll}\n",
    "\\min_{\\boldsymbol{x}} & \\boldsymbol{c}^\\top\\boldsymbol{x} \\\\\n",
    "\\text{s. a. }        & \\boldsymbol{A}_{eq}\\boldsymbol{x}=\\boldsymbol{b}_{eq} \\\\\n",
    "                     & \\boldsymbol{A}\\boldsymbol{x}\\leq\\boldsymbol{b},\n",
    "\\end{array}\n",
    "\\end{equation}\n",
    "donde:\n",
    "- $\\boldsymbol{x}=\\left[x_1\\quad\\dots\\quad x_n\\right]^\\top$,\n",
    "- $\\boldsymbol{c}=\\left[c_1\\quad\\dots\\quad c_n\\right]^\\top$,\n",
    "- $\\boldsymbol{A}_{eq}=\\left[\\begin{array}{ccc}a^{eq}_{1,1} & \\dots & a^{eq}_{1,n}\\\\ \\vdots & \\ddots & \\vdots\\\\ a^{eq}_{m_1,1} & \\dots & a^{eq}_{m_1,n}\\end{array}\\right]$,\n",
    "- $\\boldsymbol{A}=\\left[\\begin{array}{ccc}a_{1,1} & \\dots & a_{1,n}\\\\ \\vdots & \\ddots & \\vdots\\\\ a_{m_2,1} & \\dots & a_{m_2,n}\\end{array}\\right]$,\n",
    "- $\\boldsymbol{b}_{eq}=\\left[b^{eq}_1\\quad\\dots\\quad b^{eq}_{m_1}\\right]^\\top$, y\n",
    "- $\\boldsymbol{b}=\\left[b_1\\quad\\dots\\quad b_{m_2}\\right]^\\top$.\n",
    "\n",
    "**Nota:** el problema $\\max_{\\boldsymbol{x}}\\boldsymbol{g}(\\boldsymbol{x})$ es equivalente a $\\min_{\\boldsymbol{x}}-\\boldsymbol{g}(\\boldsymbol{x})$."
   ]
  },
  {
   "cell_type": "markdown",
   "metadata": {},
   "source": [
    "### 3.1. Ejemplo básico\n",
    "Una multinacional farmacéutica desea fabricar un compuesto nutritivo a base de dos productos A y B.  El producto A contiene  $30\\%$ de proteínas,  un $1\\%$ de grasas y un  $10\\%$ de azúcares.  El producto B  contiene  un  $5\\%$  de proteínas,  un  $7\\%$ de grasas  y un  $10\\%$  de  azúcares.\n",
    "\n",
    "El compuesto tiene que tener,  al menos, $25g$ de proteínas,  $6g$ de grasas y $30g$ de azúcares.  El coste del producto A es de $0.6$ u.m./g  y el de B es de $0.2$  u.m./g\n",
    "\n",
    "Se desea encontrar la cantidad en gramos de cada producto para que el coste total sea mínimo.\n",
    "\n",
    "Formular el problema de decidir cuánto hacer de cada producto como un problema de programación lineal."
   ]
  },
  {
   "cell_type": "markdown",
   "metadata": {},
   "source": [
    "#### Solución\n",
    "\n",
    "Sean:\n",
    "- $x_A$: la cantidad de gramos de A a ser producidas, y\n",
    "- $x_B$: la cantidad de gramos de B a ser producidas en la semana.\n",
    "\n",
    "Notar que lo que se quiere es minimizar $0.6x_A+0.2x_B$.\n",
    "\n",
    "Restricciones:\n",
    "1. El compuesto debe tener **al menos** $25 g$ de proteína: $30\\%x_A+5\\%x_B\\geq 25 \\Rightarrow 0.3x_A+0.05x_B\\geq 25$.\n",
    "2. El compuesto debe tener **al menos** $6 g$ de grasa: $1\\%x_A+7\\%x_B\\geq 6 \\Rightarrow 0.01x_A+0.07x_B\\geq 6$.\n",
    "3. El compuesto debe tener **al menos** $30 g$ de azúcares: $10\\%x_A+10\\%x_B\\geq 30 \\Rightarrow 0.1x_A+0.1x_B\\geq 30$.\n",
    "\n",
    "Finalmente, el problema puede ser expresado en la forma explicada como:\n",
    "\\begin{equation}\n",
    "\\begin{array}{ll}\n",
    "\\min_{x_A,x_B} & 0.6x_A+0.2x_B \\\\\n",
    "\\text{s. a. }  & -0.3x_A-0.05x_B\\leq -25 \\\\\n",
    "               & -0.01x_A-0.07x_B\\leq -6 \\\\\n",
    "               & -0.1x_A-0.1x_B\\leq -30,\n",
    "\\end{array}\n",
    "\\end{equation}\n",
    "\n",
    "o, eqivalentemente \n",
    "\\begin{equation}\n",
    "\\begin{array}{ll}\n",
    "\\min_{\\boldsymbol{x}} & \\boldsymbol{c}^\\top\\boldsymbol{x} \\\\\n",
    "\\text{s. a. }        & \\boldsymbol{A}_{eq}\\boldsymbol{x}=\\boldsymbol{b}_{eq} \\\\\n",
    "                     & \\boldsymbol{A}\\boldsymbol{x}\\leq\\boldsymbol{b},\n",
    "\\end{array}\n",
    "\\end{equation}\n",
    "con\n",
    "- $\\boldsymbol{c}=\\left[0.6 \\quad 0.2\\right]^\\top$,\n",
    "- $\\boldsymbol{A}=\\left[\\begin{array}{cc}-0.3 & -0.05 \\\\ -0.01 & -0.07\\\\ -0.1 & -0.1\\end{array}\\right]$, y\n",
    "- $\\boldsymbol{b}=\\left[-25 \\quad -6\\quad -30\\right]^\\top$.\n",
    "\n",
    "Preferiremos, en adelante, la notación vectorial/matricial."
   ]
  },
  {
   "cell_type": "markdown",
   "metadata": {},
   "source": [
    "### 3.2. Ejemplo básico 2\n",
    "Una  fábrica  de  carrocerías  de  automóviles  y camiones  tiene  dos naves. \n",
    "\n",
    "+ En  la nave A,  para  hacer  la  carrocería  de  un  camión,  se  invierten  siete  días-operario,  para  fabricar  la  de  un  coche  se  precisan dos días-operario.\n",
    "\n",
    "+ En la nave B se invierten tres días operario tanto en carrocerías de camión como de coche. \n",
    "\n",
    "Por limitaciones de mano de obra y maquinaria, la nave A dispone de $300$ días operario, y la nave B de $270$ días-operario.\n",
    "\n",
    "Si los beneficios que se obtienen por cada camión son de $600$ u.m y por  cada  automóvil  $200$ u.m,  ¿cuántas  unidades  de  cada  uno  se deben  producir  para maximizar las  ganancias? "
   ]
  },
  {
   "cell_type": "markdown",
   "metadata": {},
   "source": [
    "#### Bueno, y una vez planteado, ¿cómo se resuelve el problema?"
   ]
  },
  {
   "cell_type": "markdown",
   "metadata": {},
   "source": [
    "Este problema está sencillo pues solo es en dos variables. La solución gráfica es válida."
   ]
  },
  {
   "cell_type": "code",
   "execution_count": 2,
   "metadata": {},
   "outputs": [],
   "source": [
    "#Importar numpy y matplotlib.pyplot\n",
    "import numpy as np \n",
    "import matplotlib.pyplot as plt"
   ]
  },
  {
   "cell_type": "code",
   "execution_count": 3,
   "metadata": {},
   "outputs": [],
   "source": [
    "#Definir funciones de restricción y de costo\n",
    "def res1(xa):\n",
    "    return (25 - 0.3 * xa) / 0.05\n",
    "\n",
    "def res2(xa):\n",
    "    return (6 - 0.01 * xa) / 0.07\n",
    "\n",
    "def res3(xa):\n",
    "    return (30 - 0.1 * xa) / 0.1\n",
    "\n",
    "def objetivo(xa, xb):\n",
    "    return 0.6 * xa + 0.2 * xb"
   ]
  },
  {
   "cell_type": "code",
   "execution_count": 4,
   "metadata": {},
   "outputs": [],
   "source": [
    "#Evaluar funciones\n",
    "xa = np.arange(0, 600, 0.1)\n",
    "r1 = res1(xa)\n",
    "r2 = res2(xa)\n",
    "r3 = res3(xa)"
   ]
  },
  {
   "cell_type": "code",
   "execution_count": 11,
   "metadata": {},
   "outputs": [
    {
     "data": {
      "image/png": "[encoded data removed]",
      "text/plain": [
       "<Figure size 1000x700 with 1 Axes>"
      ]
     },
     "metadata": {},
     "output_type": "display_data"
    }
   ],
   "source": [
    "#Graficar\n",
    "# Crear figura para graficar y definir el tamaño de la figura\n",
    "plt.rc('xtick', labelsize=20) \n",
    "plt.rc('ytick', labelsize=20) \n",
    "plt.figure(figsize=(10, 7))\n",
    "\n",
    "\n",
    "#Graficar restricciones\n",
    "plt.plot(xa, r1, 'r--', lw=3, label='rest 1')\n",
    "plt.plot(xa, r2, 'b:', lw=3, label='rest 2')\n",
    "plt.plot(xa, r3, 'g-.', lw=3, label='rest 3')\n",
    "\n",
    "plt.fill_between(xa, r1, 500, color='r', alpha=0.1)\n",
    "plt.fill_between(xa, r2, 500, color='b', alpha=0.1)\n",
    "plt.fill_between(xa, r3, 500, color='g', alpha=0.1)\n",
    "\n",
    "plt.plot([40], [260], 'k*', ms=15, label='punto óptimo')\n",
    "\n",
    "\n",
    "#Dar formato a la gráfica\n",
    "plt.legend(loc='best')\n",
    "plt.xlabel('$x_a$', fontsize=25)\n",
    "plt.ylabel('$x_b$', fontsize=25)\n",
    "plt.axis([0, 600, 0, 500])\n",
    "plt.grid()\n",
    "plt.show()"
   ]
  },
  {
   "cell_type": "code",
   "execution_count": 6,
   "metadata": {},
   "outputs": [
    {
     "data": {
      "text/plain": [
       "(100.0, 76.0, 162.0, 360.0)"
      ]
     },
     "execution_count": 6,
     "metadata": {},
     "output_type": "execute_result"
    }
   ],
   "source": [
    "#Evaluar función de costo y comparar\n",
    "objetivo(0, 500), objetivo(40, 260), objetivo(250, 60), objetivo(600, 0)"
   ]
  },
  {
   "cell_type": "markdown",
   "metadata": {},
   "source": [
    "**Actividad.**\n",
    "<img style=\"float: right; margin: 0px 0px 15px 15px;\" src=\"http://drive.google.com/uc?export=view&id=13Z3pwBjhfdjitjxchcYjYyFQQw51c70l\" width=\"250px\" height=\"125px\" />\n",
    "\n",
    "**Ingresar al canal correspondiente del equipo asignado en `Microsoft Teams` y solucionar el siguiente problema de programación lineal:**\n",
    "\n",
    "Mónica hace aretes y cadenitas de joyería. Es tan buena, que todo lo que hace lo vende.\n",
    "\n",
    "Le toma 30 minutos hacer un par de aretes y una hora hacer una cadenita, y como Mónica también es estudihambre, solo dispone de 10 horas a la semana para hacer las joyas. Por otra parte, el material que compra solo le alcanza para hacer 15 unidades (el par de aretes cuenta como unidad) de joyas por semana.\n",
    "\n",
    "La utilidad que le deja la venta de las joyas es $\\$15$ en cada par de aretes y $\\$20$ en cada cadenita.\n",
    "\n",
    "¿Cuántos pares de aretes y cuántas cadenitas debería hacer Mónica para maximizar su utilidad?\n",
    "\n",
    "Formular el problema en la forma explicada y obtener la solución gráfica (puede ser a mano).\n",
    "\n",
    "**Veinte minutos: El equipo que primero lo haga, explicará el problema en la clase y le subiré la nota de alguna tarea a 100 a todos los integrantes del equipo.**\n",
    "\n",
    "> Solucionaron el problema: Oscar Chiw, Mariana Ripoll, Mariana Urdiales, Hector Fletes"
   ]
  },
  {
   "cell_type": "code",
   "execution_count": 12,
   "metadata": {},
   "outputs": [
    {
     "data": {
      "text/plain": [
       "0"
      ]
     },
     "execution_count": 12,
     "metadata": {},
     "output_type": "execute_result"
    }
   ],
   "source": [
    "np.random.choice([0, 1])"
   ]
  },
  {
   "cell_type": "markdown",
   "metadata": {},
   "source": [
    "## 4. ¿Cómo se resuelve en python?\n",
    "\n",
    "### 4.1 Librería `SciPy`\n",
    "\n",
    "<img style=\"float: right; margin: 0px 0px 15px 15px;\" src=\"https://scipy.org/_static/images/scipy_med.png\" width=\"200px\" height=\"75px\" />\n",
    "\n",
    "`SciPy` es un software de código abierto basado en `Python` para matemáticas, ciencia e ingeniería. \n",
    "\n",
    "En particular, los siguientes son algunos de los paquetes básicos:\n",
    "- `NumPy`\n",
    "- `SymPy`\n",
    "- `matplotlib`\n",
    "- **Librería `SciPy`**\n",
    "- `pandas`\n",
    "\n",
    "La **Librería `SciPy`** es uno de los paquetes principales y provee varias rutinas numéricas eficientes. Entre ellas, para integración numérica y optimización.\n",
    "\n",
    "En esta clase, y en lo que resta del módulo, estaremos utilizando el módulo `optimize` de la librería `SciPy`.\n",
    "\n",
    "**Importémoslo**"
   ]
  },
  {
   "cell_type": "code",
   "execution_count": 2,
   "metadata": {},
   "outputs": [],
   "source": [
    "# Importar el módulo optimize de la librería scipy\n",
    "import scipy.optimize as opt"
   ]
  },
  {
   "cell_type": "markdown",
   "metadata": {},
   "source": [
    "El módulo `optimize` que acabamos de importar contiene varias funciones para optimización y búsqueda de raices ($f(x)=0$). Entre ellas se encuentra la función `linprog`"
   ]
  },
  {
   "cell_type": "code",
   "execution_count": 14,
   "metadata": {
    "scrolled": true
   },
   "outputs": [
    {
     "data": {
      "text/plain": [
       "\u001b[0;31mSignature:\u001b[0m\n",
       "\u001b[0mopt\u001b[0m\u001b[0;34m.\u001b[0m\u001b[0mlinprog\u001b[0m\u001b[0;34m(\u001b[0m\u001b[0;34m\u001b[0m\n",
       "\u001b[0;34m\u001b[0m    \u001b[0mc\u001b[0m\u001b[0;34m,\u001b[0m\u001b[0;34m\u001b[0m\n",
       "\u001b[0;34m\u001b[0m    \u001b[0mA_ub\u001b[0m\u001b[0;34m=\u001b[0m\u001b[0;32mNone\u001b[0m\u001b[0;34m,\u001b[0m\u001b[0;34m\u001b[0m\n",
       "\u001b[0;34m\u001b[0m    \u001b[0mb_ub\u001b[0m\u001b[0;34m=\u001b[0m\u001b[0;32mNone\u001b[0m\u001b[0;34m,\u001b[0m\u001b[0;34m\u001b[0m\n",
       "\u001b[0;34m\u001b[0m    \u001b[0mA_eq\u001b[0m\u001b[0;34m=\u001b[0m\u001b[0;32mNone\u001b[0m\u001b[0;34m,\u001b[0m\u001b[0;34m\u001b[0m\n",
       "\u001b[0;34m\u001b[0m    \u001b[0mb_eq\u001b[0m\u001b[0;34m=\u001b[0m\u001b[0;32mNone\u001b[0m\u001b[0;34m,\u001b[0m\u001b[0;34m\u001b[0m\n",
       "\u001b[0;34m\u001b[0m    \u001b[0mbounds\u001b[0m\u001b[0;34m=\u001b[0m\u001b[0;32mNone\u001b[0m\u001b[0;34m,\u001b[0m\u001b[0;34m\u001b[0m\n",
       "\u001b[0;34m\u001b[0m    \u001b[0mmethod\u001b[0m\u001b[0;34m=\u001b[0m\u001b[0;34m'highs'\u001b[0m\u001b[0;34m,\u001b[0m\u001b[0;34m\u001b[0m\n",
       "\u001b[0;34m\u001b[0m    \u001b[0mcallback\u001b[0m\u001b[0;34m=\u001b[0m\u001b[0;32mNone\u001b[0m\u001b[0;34m,\u001b[0m\u001b[0;34m\u001b[0m\n",
       "\u001b[0;34m\u001b[0m    \u001b[0moptions\u001b[0m\u001b[0;34m=\u001b[0m\u001b[0;32mNone\u001b[0m\u001b[0;34m,\u001b[0m\u001b[0;34m\u001b[0m\n",
       "\u001b[0;34m\u001b[0m    \u001b[0mx0\u001b[0m\u001b[0;34m=\u001b[0m\u001b[0;32mNone\u001b[0m\u001b[0;34m,\u001b[0m\u001b[0;34m\u001b[0m\n",
       "\u001b[0;34m\u001b[0m    \u001b[0mintegrality\u001b[0m\u001b[0;34m=\u001b[0m\u001b[0;32mNone\u001b[0m\u001b[0;34m,\u001b[0m\u001b[0;34m\u001b[0m\n",
       "\u001b[0;34m\u001b[0m\u001b[0;34m)\u001b[0m\u001b[0;34m\u001b[0m\u001b[0;34m\u001b[0m\u001b[0m\n",
       "\u001b[0;31mDocstring:\u001b[0m\n",
       "Linear programming: minimize a linear objective function subject to linear\n",
       "equality and inequality constraints.\n",
       "\n",
       "Linear programming solves problems of the following form:\n",
       "\n",
       ".. math::\n",
       "\n",
       "    \\min_x \\ & c^T x \\\\\n",
       "    \\mbox{such that} \\ & A_{ub} x \\leq b_{ub},\\\\\n",
       "    & A_{eq} x = b_{eq},\\\\\n",
       "    & l \\leq x \\leq u ,\n",
       "\n",
       "where :math:`x` is a vector of decision variables; :math:`c`,\n",
       ":math:`b_{ub}`, :math:`b_{eq}`, :math:`l`, and :math:`u` are vectors; and\n",
       ":math:`A_{ub}` and :math:`A_{eq}` are matrices.\n",
       "\n",
       "Alternatively, that's:\n",
       "\n",
       "    - minimize ::\n",
       "\n",
       "        c @ x\n",
       "\n",
       "    - such that ::\n",
       "\n",
       "        A_ub @ x <= b_ub\n",
       "        A_eq @ x == b_eq\n",
       "        lb <= x <= ub\n",
       "\n",
       "Note that by default ``lb = 0`` and ``ub = None``. Other bounds can be\n",
       "specified with ``bounds``.\n",
       "\n",
       "Parameters\n",
       "----------\n",
       "c : 1-D array\n",
       "    The coefficients of the linear objective function to be minimized.\n",
       "A_ub : 2-D array, optional\n",
       "    The inequality constraint matrix. Each row of ``A_ub`` specifies the\n",
       "    coefficients of a linear inequality constraint on ``x``.\n",
       "b_ub : 1-D array, optional\n",
       "    The inequality constraint vector. Each element represents an\n",
       "    upper bound on the corresponding value of ``A_ub @ x``.\n",
       "A_eq : 2-D array, optional\n",
       "    The equality constraint matrix. Each row of ``A_eq`` specifies the\n",
       "    coefficients of a linear equality constraint on ``x``.\n",
       "b_eq : 1-D array, optional\n",
       "    The equality constraint vector. Each element of ``A_eq @ x`` must equal\n",
       "    the corresponding element of ``b_eq``.\n",
       "bounds : sequence, optional\n",
       "    A sequence of ``(min, max)`` pairs for each element in ``x``, defining\n",
       "    the minimum and maximum values of that decision variable.\n",
       "    If a single tuple ``(min, max)`` is provided, then ``min`` and ``max``\n",
       "    will serve as bounds for all decision variables.\n",
       "    Use ``None`` to indicate that there is no bound. For instance, the\n",
       "    default bound ``(0, None)`` means that all decision variables are\n",
       "    non-negative, and the pair ``(None, None)`` means no bounds at all,\n",
       "    i.e. all variables are allowed to be any real.\n",
       "method : str, optional\n",
       "    The algorithm used to solve the standard form problem.\n",
       "    :ref:`'highs' <optimize.linprog-highs>` (default),\n",
       "    :ref:`'highs-ds' <optimize.linprog-highs-ds>`,\n",
       "    :ref:`'highs-ipm' <optimize.linprog-highs-ipm>`,\n",
       "    :ref:`'interior-point' <optimize.linprog-interior-point>` (legacy),\n",
       "    :ref:`'revised simplex' <optimize.linprog-revised_simplex>` (legacy),\n",
       "    and\n",
       "    :ref:`'simplex' <optimize.linprog-simplex>` (legacy) are supported.\n",
       "    The legacy methods are deprecated and will be removed in SciPy 1.11.0.\n",
       "callback : callable, optional\n",
       "    If a callback function is provided, it will be called at least once per\n",
       "    iteration of the algorithm. The callback function must accept a single\n",
       "    `scipy.optimize.OptimizeResult` consisting of the following fields:\n",
       "\n",
       "    x : 1-D array\n",
       "        The current solution vector.\n",
       "    fun : float\n",
       "        The current value of the objective function ``c @ x``.\n",
       "    success : bool\n",
       "        ``True`` when the algorithm has completed successfully.\n",
       "    slack : 1-D array\n",
       "        The (nominally positive) values of the slack,\n",
       "        ``b_ub - A_ub @ x``.\n",
       "    con : 1-D array\n",
       "        The (nominally zero) residuals of the equality constraints,\n",
       "        ``b_eq - A_eq @ x``.\n",
       "    phase : int\n",
       "        The phase of the algorithm being executed.\n",
       "    status : int\n",
       "        An integer representing the status of the algorithm.\n",
       "\n",
       "        ``0`` : Optimization proceeding nominally.\n",
       "\n",
       "        ``1`` : Iteration limit reached.\n",
       "\n",
       "        ``2`` : Problem appears to be infeasible.\n",
       "\n",
       "        ``3`` : Problem appears to be unbounded.\n",
       "\n",
       "        ``4`` : Numerical difficulties encountered.\n",
       "\n",
       "        nit : int\n",
       "            The current iteration number.\n",
       "        message : str\n",
       "            A string descriptor of the algorithm status.\n",
       "\n",
       "    Callback functions are not currently supported by the HiGHS methods.\n",
       "\n",
       "options : dict, optional\n",
       "    A dictionary of solver options. All methods accept the following\n",
       "    options:\n",
       "\n",
       "    maxiter : int\n",
       "        Maximum number of iterations to perform.\n",
       "        Default: see method-specific documentation.\n",
       "    disp : bool\n",
       "        Set to ``True`` to print convergence messages.\n",
       "        Default: ``False``.\n",
       "    presolve : bool\n",
       "        Set to ``False`` to disable automatic presolve.\n",
       "        Default: ``True``.\n",
       "\n",
       "    All methods except the HiGHS solvers also accept:\n",
       "\n",
       "    tol : float\n",
       "        A tolerance which determines when a residual is \"close enough\" to\n",
       "        zero to be considered exactly zero.\n",
       "    autoscale : bool\n",
       "        Set to ``True`` to automatically perform equilibration.\n",
       "        Consider using this option if the numerical values in the\n",
       "        constraints are separated by several orders of magnitude.\n",
       "        Default: ``False``.\n",
       "    rr : bool\n",
       "        Set to ``False`` to disable automatic redundancy removal.\n",
       "        Default: ``True``.\n",
       "    rr_method : string\n",
       "        Method used to identify and remove redundant rows from the\n",
       "        equality constraint matrix after presolve. For problems with\n",
       "        dense input, the available methods for redundancy removal are:\n",
       "\n",
       "        \"SVD\":\n",
       "            Repeatedly performs singular value decomposition on\n",
       "            the matrix, detecting redundant rows based on nonzeros\n",
       "            in the left singular vectors that correspond with\n",
       "            zero singular values. May be fast when the matrix is\n",
       "            nearly full rank.\n",
       "        \"pivot\":\n",
       "            Uses the algorithm presented in [5]_ to identify\n",
       "            redundant rows.\n",
       "        \"ID\":\n",
       "            Uses a randomized interpolative decomposition.\n",
       "            Identifies columns of the matrix transpose not used in\n",
       "            a full-rank interpolative decomposition of the matrix.\n",
       "        None:\n",
       "            Uses \"svd\" if the matrix is nearly full rank, that is,\n",
       "            the difference between the matrix rank and the number\n",
       "            of rows is less than five. If not, uses \"pivot\". The\n",
       "            behavior of this default is subject to change without\n",
       "            prior notice.\n",
       "\n",
       "        Default: None.\n",
       "        For problems with sparse input, this option is ignored, and the\n",
       "        pivot-based algorithm presented in [5]_ is used.\n",
       "\n",
       "    For method-specific options, see\n",
       "    :func:`show_options('linprog') <show_options>`.\n",
       "\n",
       "x0 : 1-D array, optional\n",
       "    Guess values of the decision variables, which will be refined by\n",
       "    the optimization algorithm. This argument is currently used only by the\n",
       "    'revised simplex' method, and can only be used if `x0` represents a\n",
       "    basic feasible solution.\n",
       "\n",
       "integrality : 1-D array or int, optional\n",
       "    Indicates the type of integrality constraint on each decision variable.\n",
       "\n",
       "    ``0`` : Continuous variable; no integrality constraint.\n",
       "\n",
       "    ``1`` : Integer variable; decision variable must be an integer\n",
       "    within `bounds`.\n",
       "\n",
       "    ``2`` : Semi-continuous variable; decision variable must be within\n",
       "    `bounds` or take value ``0``.\n",
       "\n",
       "    ``3`` : Semi-integer variable; decision variable must be an integer\n",
       "    within `bounds` or take value ``0``.\n",
       "\n",
       "    By default, all variables are continuous.\n",
       "\n",
       "    For mixed integrality constraints, supply an array of shape `c.shape`.\n",
       "    To infer a constraint on each decision variable from shorter inputs,\n",
       "    the argument will be broadcasted to `c.shape` using `np.broadcast_to`.\n",
       "\n",
       "    This argument is currently used only by the ``'highs'`` method and\n",
       "    ignored otherwise.\n",
       "\n",
       "Returns\n",
       "-------\n",
       "res : OptimizeResult\n",
       "    A :class:`scipy.optimize.OptimizeResult` consisting of the fields\n",
       "    below. Note that the return types of the fields may depend on whether\n",
       "    the optimization was successful, therefore it is recommended to check\n",
       "    `OptimizeResult.status` before relying on the other fields:\n",
       "\n",
       "    x : 1-D array\n",
       "        The values of the decision variables that minimizes the\n",
       "        objective function while satisfying the constraints.\n",
       "    fun : float\n",
       "        The optimal value of the objective function ``c @ x``.\n",
       "    slack : 1-D array\n",
       "        The (nominally positive) values of the slack variables,\n",
       "        ``b_ub - A_ub @ x``.\n",
       "    con : 1-D array\n",
       "        The (nominally zero) residuals of the equality constraints,\n",
       "        ``b_eq - A_eq @ x``.\n",
       "    success : bool\n",
       "        ``True`` when the algorithm succeeds in finding an optimal\n",
       "        solution.\n",
       "    status : int\n",
       "        An integer representing the exit status of the algorithm.\n",
       "\n",
       "        ``0`` : Optimization terminated successfully.\n",
       "\n",
       "        ``1`` : Iteration limit reached.\n",
       "\n",
       "        ``2`` : Problem appears to be infeasible.\n",
       "\n",
       "        ``3`` : Problem appears to be unbounded.\n",
       "\n",
       "        ``4`` : Numerical difficulties encountered.\n",
       "\n",
       "    nit : int\n",
       "        The total number of iterations performed in all phases.\n",
       "    message : str\n",
       "        A string descriptor of the exit status of the algorithm.\n",
       "\n",
       "See Also\n",
       "--------\n",
       "show_options : Additional options accepted by the solvers.\n",
       "\n",
       "Notes\n",
       "-----\n",
       "This section describes the available solvers that can be selected by the\n",
       "'method' parameter.\n",
       "\n",
       "`'highs-ds'` and\n",
       "`'highs-ipm'` are interfaces to the\n",
       "HiGHS simplex and interior-point method solvers [13]_, respectively.\n",
       "`'highs'` (default) chooses between\n",
       "the two automatically. These are the fastest linear\n",
       "programming solvers in SciPy, especially for large, sparse problems;\n",
       "which of these two is faster is problem-dependent.\n",
       "The other solvers (`'interior-point'`, `'revised simplex'`, and\n",
       "`'simplex'`) are legacy methods and will be removed in SciPy 1.11.0.\n",
       "\n",
       "Method *highs-ds* is a wrapper of the C++ high performance dual\n",
       "revised simplex implementation (HSOL) [13]_, [14]_. Method *highs-ipm*\n",
       "is a wrapper of a C++ implementation of an **i**\\ nterior-\\ **p**\\ oint\n",
       "**m**\\ ethod [13]_; it features a crossover routine, so it is as accurate\n",
       "as a simplex solver. Method *highs* chooses between the two automatically.\n",
       "For new code involving `linprog`, we recommend explicitly choosing one of\n",
       "these three method values.\n",
       "\n",
       ".. versionadded:: 1.6.0\n",
       "\n",
       "Method *interior-point* uses the primal-dual path following algorithm\n",
       "as outlined in [4]_. This algorithm supports sparse constraint matrices and\n",
       "is typically faster than the simplex methods, especially for large, sparse\n",
       "problems. Note, however, that the solution returned may be slightly less\n",
       "accurate than those of the simplex methods and will not, in general,\n",
       "correspond with a vertex of the polytope defined by the constraints.\n",
       "\n",
       ".. versionadded:: 1.0.0\n",
       "\n",
       "Method *revised simplex* uses the revised simplex method as described in\n",
       "[9]_, except that a factorization [11]_ of the basis matrix, rather than\n",
       "its inverse, is efficiently maintained and used to solve the linear systems\n",
       "at each iteration of the algorithm.\n",
       "\n",
       ".. versionadded:: 1.3.0\n",
       "\n",
       "Method *simplex* uses a traditional, full-tableau implementation of\n",
       "Dantzig's simplex algorithm [1]_, [2]_ (*not* the\n",
       "Nelder-Mead simplex). This algorithm is included for backwards\n",
       "compatibility and educational purposes.\n",
       "\n",
       ".. versionadded:: 0.15.0\n",
       "\n",
       "Before applying *interior-point*, *revised simplex*, or *simplex*,\n",
       "a presolve procedure based on [8]_ attempts\n",
       "to identify trivial infeasibilities, trivial unboundedness, and potential\n",
       "problem simplifications. Specifically, it checks for:\n",
       "\n",
       "- rows of zeros in ``A_eq`` or ``A_ub``, representing trivial constraints;\n",
       "- columns of zeros in ``A_eq`` `and` ``A_ub``, representing unconstrained\n",
       "  variables;\n",
       "- column singletons in ``A_eq``, representing fixed variables; and\n",
       "- column singletons in ``A_ub``, representing simple bounds.\n",
       "\n",
       "If presolve reveals that the problem is unbounded (e.g. an unconstrained\n",
       "and unbounded variable has negative cost) or infeasible (e.g., a row of\n",
       "zeros in ``A_eq`` corresponds with a nonzero in ``b_eq``), the solver\n",
       "terminates with the appropriate status code. Note that presolve terminates\n",
       "as soon as any sign of unboundedness is detected; consequently, a problem\n",
       "may be reported as unbounded when in reality the problem is infeasible\n",
       "(but infeasibility has not been detected yet). Therefore, if it is\n",
       "important to know whether the problem is actually infeasible, solve the\n",
       "problem again with option ``presolve=False``.\n",
       "\n",
       "If neither infeasibility nor unboundedness are detected in a single pass\n",
       "of the presolve, bounds are tightened where possible and fixed\n",
       "variables are removed from the problem. Then, linearly dependent rows\n",
       "of the ``A_eq`` matrix are removed, (unless they represent an\n",
       "infeasibility) to avoid numerical difficulties in the primary solve\n",
       "routine. Note that rows that are nearly linearly dependent (within a\n",
       "prescribed tolerance) may also be removed, which can change the optimal\n",
       "solution in rare cases. If this is a concern, eliminate redundancy from\n",
       "your problem formulation and run with option ``rr=False`` or\n",
       "``presolve=False``.\n",
       "\n",
       "Several potential improvements can be made here: additional presolve\n",
       "checks outlined in [8]_ should be implemented, the presolve routine should\n",
       "be run multiple times (until no further simplifications can be made), and\n",
       "more of the efficiency improvements from [5]_ should be implemented in the\n",
       "redundancy removal routines.\n",
       "\n",
       "After presolve, the problem is transformed to standard form by converting\n",
       "the (tightened) simple bounds to upper bound constraints, introducing\n",
       "non-negative slack variables for inequality constraints, and expressing\n",
       "unbounded variables as the difference between two non-negative variables.\n",
       "Optionally, the problem is automatically scaled via equilibration [12]_.\n",
       "The selected algorithm solves the standard form problem, and a\n",
       "postprocessing routine converts the result to a solution to the original\n",
       "problem.\n",
       "\n",
       "References\n",
       "----------\n",
       ".. [1] Dantzig, George B., Linear programming and extensions. Rand\n",
       "       Corporation Research Study Princeton Univ. Press, Princeton, NJ,\n",
       "       1963\n",
       ".. [2] Hillier, S.H. and Lieberman, G.J. (1995), \"Introduction to\n",
       "       Mathematical Programming\", McGraw-Hill, Chapter 4.\n",
       ".. [3] Bland, Robert G. New finite pivoting rules for the simplex method.\n",
       "       Mathematics of Operations Research (2), 1977: pp. 103-107.\n",
       ".. [4] Andersen, Erling D., and Knud D. Andersen. \"The MOSEK interior point\n",
       "       optimizer for linear programming: an implementation of the\n",
       "       homogeneous algorithm.\" High performance optimization. Springer US,\n",
       "       2000. 197-232.\n",
       ".. [5] Andersen, Erling D. \"Finding all linearly dependent rows in\n",
       "       large-scale linear programming.\" Optimization Methods and Software\n",
       "       6.3 (1995): 219-227.\n",
       ".. [6] Freund, Robert M. \"Primal-Dual Interior-Point Methods for Linear\n",
       "       Programming based on Newton's Method.\" Unpublished Course Notes,\n",
       "       March 2004. Available 2/25/2017 at\n",
       "       https://ocw.mit.edu/courses/sloan-school-of-management/15-084j-nonlinear-programming-spring-2004/lecture-notes/lec14_int_pt_mthd.pdf\n",
       ".. [7] Fourer, Robert. \"Solving Linear Programs by Interior-Point Methods.\"\n",
       "       Unpublished Course Notes, August 26, 2005. Available 2/25/2017 at\n",
       "       http://www.4er.org/CourseNotes/Book%20B/B-III.pdf\n",
       ".. [8] Andersen, Erling D., and Knud D. Andersen. \"Presolving in linear\n",
       "       programming.\" Mathematical Programming 71.2 (1995): 221-245.\n",
       ".. [9] Bertsimas, Dimitris, and J. Tsitsiklis. \"Introduction to linear\n",
       "       programming.\" Athena Scientific 1 (1997): 997.\n",
       ".. [10] Andersen, Erling D., et al. Implementation of interior point\n",
       "        methods for large scale linear programming. HEC/Universite de\n",
       "        Geneve, 1996.\n",
       ".. [11] Bartels, Richard H. \"A stabilization of the simplex method.\"\n",
       "        Journal in  Numerische Mathematik 16.5 (1971): 414-434.\n",
       ".. [12] Tomlin, J. A. \"On scaling linear programming problems.\"\n",
       "        Mathematical Programming Study 4 (1975): 146-166.\n",
       ".. [13] Huangfu, Q., Galabova, I., Feldmeier, M., and Hall, J. A. J.\n",
       "        \"HiGHS - high performance software for linear optimization.\"\n",
       "        https://highs.dev/\n",
       ".. [14] Huangfu, Q. and Hall, J. A. J. \"Parallelizing the dual revised\n",
       "        simplex method.\" Mathematical Programming Computation, 10 (1),\n",
       "        119-142, 2018. DOI: 10.1007/s12532-017-0130-5\n",
       "\n",
       "Examples\n",
       "--------\n",
       "Consider the following problem:\n",
       "\n",
       ".. math::\n",
       "\n",
       "    \\min_{x_0, x_1} \\ -x_0 + 4x_1 & \\\\\n",
       "    \\mbox{such that} \\ -3x_0 + x_1 & \\leq 6,\\\\\n",
       "    -x_0 - 2x_1 & \\geq -4,\\\\\n",
       "    x_1 & \\geq -3.\n",
       "\n",
       "The problem is not presented in the form accepted by `linprog`. This is\n",
       "easily remedied by converting the \"greater than\" inequality\n",
       "constraint to a \"less than\" inequality constraint by\n",
       "multiplying both sides by a factor of :math:`-1`. Note also that the last\n",
       "constraint is really the simple bound :math:`-3 \\leq x_1 \\leq \\infty`.\n",
       "Finally, since there are no bounds on :math:`x_0`, we must explicitly\n",
       "specify the bounds :math:`-\\infty \\leq x_0 \\leq \\infty`, as the\n",
       "default is for variables to be non-negative. After collecting coeffecients\n",
       "into arrays and tuples, the input for this problem is:\n",
       "\n",
       ">>> from scipy.optimize import linprog\n",
       ">>> c = [-1, 4]\n",
       ">>> A = [[-3, 1], [1, 2]]\n",
       ">>> b = [6, 4]\n",
       ">>> x0_bounds = (None, None)\n",
       ">>> x1_bounds = (-3, None)\n",
       ">>> res = linprog(c, A_ub=A, b_ub=b, bounds=[x0_bounds, x1_bounds])\n",
       ">>> res.fun\n",
       "-22.0\n",
       ">>> res.x\n",
       "array([10., -3.])\n",
       ">>> res.message\n",
       "'Optimization terminated successfully. (HiGHS Status 7: Optimal)'\n",
       "\n",
       "The marginals (AKA dual values / shadow prices / Lagrange multipliers)\n",
       "and residuals (slacks) are also available.\n",
       "\n",
       ">>> res.ineqlin\n",
       "  residual: [ 3.900e+01  0.000e+00]\n",
       " marginals: [-0.000e+00 -1.000e+00]\n",
       "\n",
       "For example, because the marginal associated with the second inequality\n",
       "constraint is -1, we expect the optimal value of the objective function\n",
       "to decrease by ``eps`` if we add a small amount ``eps`` to the right hand\n",
       "side of the second inequality constraint:\n",
       "\n",
       ">>> eps = 0.05\n",
       ">>> b[1] += eps\n",
       ">>> linprog(c, A_ub=A, b_ub=b, bounds=[x0_bounds, x1_bounds]).fun\n",
       "-22.05\n",
       "\n",
       "Also, because the residual on the first inequality constraint is 39, we\n",
       "can decrease the right hand side of the first constraint by 39 without\n",
       "affecting the optimal solution.\n",
       "\n",
       ">>> b = [6, 4]  # reset to original values\n",
       ">>> b[0] -= 39\n",
       ">>> linprog(c, A_ub=A, b_ub=b, bounds=[x0_bounds, x1_bounds]).fun\n",
       "-22.0\n",
       "\u001b[0;31mFile:\u001b[0m      ~/anaconda3/lib/python3.11/site-packages/scipy/optimize/_linprog.py\n",
       "\u001b[0;31mType:\u001b[0m      function"
      ]
     },
     "metadata": {},
     "output_type": "display_data"
    }
   ],
   "source": [
    "# Función linprog del módulo optimize\n",
    "opt.linprog?"
   ]
  },
  {
   "cell_type": "code",
   "execution_count": null,
   "metadata": {},
   "outputs": [],
   "source": [
    "opt.minimize()"
   ]
  },
  {
   "cell_type": "markdown",
   "metadata": {},
   "source": [
    "la cual resuelve problemas como los que aprendimos a plantear.\n",
    "\n",
    "Parámetros importantes:\n",
    "+ c: Vector con los coeficientes de función de costo (objetivo) lineal a minimizar.\n",
    "+ A_ub: Matriz con los coeficientes de $x$ de la  restricción de desigualdad.\n",
    "+ b_ub: Vector que representa los valores de cada restricción de desigualdad.\n",
    "+ A_eq: Matriz con los coeficientes de $x$ de la  restricción de igualdad.\n",
    "+ b_eq: Vector que representa los valores de cada restricción de igualdad.\n",
    "+ bounds: (min, max) pares de cada elemento en $x$ definiendo las cotas mìnimas y màximas correspondientes. Por default $(0, None)$, no-negativo."
   ]
  },
  {
   "cell_type": "markdown",
   "metadata": {},
   "source": [
    "### 4.2 Solución del ejemplo básico con linprog\n",
    "Ya hicimos la solución gráfica. Contrastemos con la solución que nos da `linprog`...\n",
    "\n",
    "- $\\boldsymbol{c}=\\left[0.6 \\quad 0.2\\right]^\\top$,\n",
    "- $\\boldsymbol{A}=\\left[\\begin{array}{cc}-0.3 & -0.05 \\\\ -0.01 & -0.07\\\\ -0.1 & -0.1\\end{array}\\right]$, y\n",
    "- $\\boldsymbol{b}=\\left[-25 \\quad -6\\quad -30\\right]^\\top$."
   ]
  },
  {
   "cell_type": "code",
   "execution_count": 1,
   "metadata": {},
   "outputs": [],
   "source": [
    "# Importar numpy para crear las matrices\n",
    "import numpy as np"
   ]
  },
  {
   "cell_type": "code",
   "execution_count": 16,
   "metadata": {},
   "outputs": [],
   "source": [
    "# Crear las matrices para resolver el problema\n",
    "c = np.array([0.6, 0.2])\n",
    "b = np.array([-25,-6,-30])\n",
    "A = np.array([[-0.3,-0.05],\n",
    "             [-0.01,-0.07],\n",
    "             [-0.1,-0.1]])"
   ]
  },
  {
   "cell_type": "code",
   "execution_count": 17,
   "metadata": {},
   "outputs": [
    {
     "data": {
      "text/plain": [
       "(array([0.6, 0.2]),\n",
       " array([-25,  -6, -30]),\n",
       " array([[-0.3 , -0.05],\n",
       "        [-0.01, -0.07],\n",
       "        [-0.1 , -0.1 ]]))"
      ]
     },
     "execution_count": 17,
     "metadata": {},
     "output_type": "execute_result"
    }
   ],
   "source": [
    "c,b,A"
   ]
  },
  {
   "cell_type": "code",
   "execution_count": 18,
   "metadata": {},
   "outputs": [],
   "source": [
    "# Resolver utilizando linprog\n",
    "sol_farma = opt.linprog(c, A_ub=A, b_ub=b)"
   ]
  },
  {
   "cell_type": "code",
   "execution_count": null,
   "metadata": {},
   "outputs": [],
   "source": []
  },
  {
   "cell_type": "code",
   "execution_count": 19,
   "metadata": {},
   "outputs": [
    {
     "data": {
      "text/plain": [
       "        message: Optimization terminated successfully. (HiGHS Status 7: Optimal)\n",
       "        success: True\n",
       "         status: 0\n",
       "            fun: 76.0\n",
       "              x: [ 4.000e+01  2.600e+02]\n",
       "            nit: 2\n",
       "          lower:  residual: [ 4.000e+01  2.600e+02]\n",
       "                 marginals: [ 0.000e+00  0.000e+00]\n",
       "          upper:  residual: [       inf        inf]\n",
       "                 marginals: [ 0.000e+00  0.000e+00]\n",
       "          eqlin:  residual: []\n",
       "                 marginals: []\n",
       "        ineqlin:  residual: [ 0.000e+00  1.260e+01  0.000e+00]\n",
       "                 marginals: [-1.600e+00 -0.000e+00 -1.200e+00]\n",
       " mip_node_count: 0\n",
       " mip_dual_bound: 0.0\n",
       "        mip_gap: 0.0"
      ]
     },
     "execution_count": 19,
     "metadata": {},
     "output_type": "execute_result"
    }
   ],
   "source": [
    "# Mostrar el resultado\n",
    "sol_farma"
   ]
  },
  {
   "cell_type": "code",
   "execution_count": 20,
   "metadata": {},
   "outputs": [
    {
     "data": {
      "text/plain": [
       "array([ 40., 260.])"
      ]
     },
     "execution_count": 20,
     "metadata": {},
     "output_type": "execute_result"
    }
   ],
   "source": [
    "# Extraer el vector solución\n",
    "x = sol_farma.x\n",
    "x"
   ]
  },
  {
   "cell_type": "markdown",
   "metadata": {},
   "source": [
    "**Conclusión**\n",
    "- Para minimizar el costo del compuesto nutritivo basado en los productos $A$ y $B$, se debe producir $40$ gramos de $A$ y $260$ gramos de B.\n",
    "- Con esa producción, el  costo total del compuesto será de $76$ u.m."
   ]
  },
  {
   "cell_type": "markdown",
   "metadata": {},
   "source": [
    "**Actividad.** Resolver el ejemplo de Mónica y sus ventas con `linprog`"
   ]
  },
  {
   "cell_type": "code",
   "execution_count": 43,
   "metadata": {},
   "outputs": [],
   "source": [
    "# Definir matrices\n",
    "c = -np.array([15,20])\n",
    "b = np.array([10,15])\n",
    "A = np.array([[0.5,1],[1,1]])"
   ]
  },
  {
   "cell_type": "code",
   "execution_count": 44,
   "metadata": {},
   "outputs": [],
   "source": [
    "# Resolver con el módulo linprog\n",
    "sol_monica = opt.linprog(c,A,b,method='simplex')"
   ]
  },
  {
   "cell_type": "code",
   "execution_count": 45,
   "metadata": {},
   "outputs": [
    {
     "data": {
      "text/plain": [
       "     con: array([], dtype=float64)\n",
       "     fun: -250.0\n",
       " message: 'Optimization terminated successfully.'\n",
       "     nit: 3\n",
       "   slack: array([0., 0.])\n",
       "  status: 0\n",
       " success: True\n",
       "       x: array([10.,  5.])"
      ]
     },
     "execution_count": 45,
     "metadata": {},
     "output_type": "execute_result"
    }
   ],
   "source": [
    "#Mostrar solución\n",
    "sol_monica"
   ]
  },
  {
   "cell_type": "markdown",
   "metadata": {},
   "source": [
    "## 5. Transporte\n",
    "### 5.1 Problema de transporte (de energía eléctrica)\n",
    "\n",
    "La Comisión Federal de Electricidad **(CFE)** dispone de cuatro plantas de generación para satisfacer la demanda diaria eléctrica en tres ciudades, Guadalajara, León y Morelia. Las plantas $1$, $2$ y $3$ pueden satisfacer $80$, $40$ y $60$ millones de KW al día respectivamente. Las necesidades de las ciudades de Guadalajara, León y Morelia son de $70$, $40$ y $70$ millones de Kw al día respectivamente. \n",
    "\n",
    "\n",
    "Los costos asociados al envío de suministro energético por cada millón de Kw entre cada planta y cada ciudad son los registrados en la siguiente tabla. \n",
    "\n",
    "-|Guadalajara|León|Morelia\n",
    ":----|----|----|----\n",
    "Planta 1|5|2|7\n",
    "Planta 2|3|6|6\n",
    "Planta 3|6|1|2\n",
    "\n",
    "Y por último, las restricciones del problema, van a estar dadas por las capacidades de oferta y demanda de cada planta (en millones de KW) y cada ciudad.\n",
    "\n",
    "Para simplificar la notación use las siguientes variables:\n",
    "\n",
    "+ $x_1$: Kw (en millones) distribuidos de la Planta 1 a Guadalajara\n",
    "+ $x_2$: Kw (en millones) distribuidos de la Planta 1 a León\n",
    "+ $x_3$: Kw (en millones) distribuidos de la Planta 1 a Morelia\n",
    "+ $x_4$: Kw (en millones) distribuidos de la Planta 2 a Guadalajara\n",
    "+ $x_5$: Kw (en millones) distribuidos de la Planta 2 a León\n",
    "+ $x_6$: Kw (en millones) distribuidos de la Planta 2 a Morelia\n",
    "+ $x_7$: Kw (en millones) distribuidos de la Planta 3 a Guadalajara\n",
    "+ $x_8$: Kw (en millones) distribuidos de la Planta 3 a León\n",
    "+ $x_9$: Kw (en millones) distribuidos de la Planta 3 a Morelia\n",
    "\n",
    "El objetivo consiste en plantear el problema de programación lineal que permita satisfacer las necesidades de todas las ciudades al tiempo que minimice los costos asociados a la distribución y resolverlo con `linprog`."
   ]
  },
  {
   "cell_type": "code",
   "execution_count": 3,
   "metadata": {},
   "outputs": [],
   "source": [
    "# Matrices y cotas\n",
    "c = np.array([5,2,7,3,6,6,6,1,2])\n",
    "b = np.array([80,40,60,-70,-40,-70])\n",
    "A = np.array([[1,1,1,0,0,0,0,0,0],\n",
    "             [0,0,0,1,1,1,0,0,0],\n",
    "             [0,0,0,0,0,0,1,1,1],\n",
    "             [-1,0,0,-1,0,0,-1,0,0],\n",
    "             [0,-1,0,0,-1,0,0,-1,0],\n",
    "             [0,0,-1,0,0,-1,0,0,-1]])"
   ]
  },
  {
   "cell_type": "code",
   "execution_count": 5,
   "metadata": {},
   "outputs": [],
   "source": [
    "# Resolver\n",
    "sol_energia = opt.linprog(c,A,b,method='highs')"
   ]
  },
  {
   "cell_type": "code",
   "execution_count": 6,
   "metadata": {},
   "outputs": [
    {
     "data": {
      "text/plain": [
       "        message: Optimization terminated successfully. (HiGHS Status 7: Optimal)\n",
       "        success: True\n",
       "         status: 0\n",
       "            fun: 540.0\n",
       "              x: [ 3.000e+01  4.000e+01  1.000e+01  4.000e+01  0.000e+00\n",
       "                   0.000e+00  0.000e+00  0.000e+00  6.000e+01]\n",
       "            nit: 6\n",
       "          lower:  residual: [ 3.000e+01  4.000e+01  1.000e+01  4.000e+01\n",
       "                              0.000e+00  0.000e+00  0.000e+00  0.000e+00\n",
       "                              6.000e+01]\n",
       "                 marginals: [ 0.000e+00  0.000e+00  0.000e+00  0.000e+00\n",
       "                              6.000e+00  1.000e+00  6.000e+00  4.000e+00\n",
       "                              0.000e+00]\n",
       "          upper:  residual: [       inf        inf        inf        inf\n",
       "                                    inf        inf        inf        inf\n",
       "                                    inf]\n",
       "                 marginals: [ 0.000e+00  0.000e+00  0.000e+00  0.000e+00\n",
       "                              0.000e+00  0.000e+00  0.000e+00  0.000e+00\n",
       "                              0.000e+00]\n",
       "          eqlin:  residual: []\n",
       "                 marginals: []\n",
       "        ineqlin:  residual: [ 0.000e+00  0.000e+00  0.000e+00  0.000e+00\n",
       "                              0.000e+00  0.000e+00]\n",
       "                 marginals: [-0.000e+00 -2.000e+00 -5.000e+00 -5.000e+00\n",
       "                             -2.000e+00 -7.000e+00]\n",
       " mip_node_count: 0\n",
       " mip_dual_bound: 0.0\n",
       "        mip_gap: 0.0"
      ]
     },
     "execution_count": 6,
     "metadata": {},
     "output_type": "execute_result"
    }
   ],
   "source": [
    "# Mostrar resultado\n",
    "sol_energia"
   ]
  },
  {
   "cell_type": "code",
   "execution_count": 7,
   "metadata": {},
   "outputs": [
    {
     "data": {
      "text/plain": [
       "array([30., 40., 10., 40.,  0.,  0.,  0.,  0., 60.])"
      ]
     },
     "execution_count": 7,
     "metadata": {},
     "output_type": "execute_result"
    }
   ],
   "source": [
    "sol_energia.x"
   ]
  },
  {
   "cell_type": "markdown",
   "metadata": {},
   "source": [
    "### 5.2 Problema de transporte 2\n",
    "- **Referencia**: http://bdigital.unal.edu.co/5037/4/guillermojimenezlozano.2006_Parte1.pdf\n",
    "\n",
    "Una  empresa tiene dos factorías A y B.  En ellas  se fabrica un determinado  producto, a razón de 500  y 400 unidades por día respectivamente.  El producto  ha  de  ser distribuido posteriormente  a  tres  centros  C,  D  y  E,  que  requieren,  respectivamente,  200,  300  y  400  unidades.  Los  costos  de  transportar cada unidad del producto desde cada factoría a cada centro distribuidor son los  indicados  en la tabla  siguiente: \n",
    "\n",
    "Factoría|C|D|E|Fabricación (Unidades)\n",
    ":----|----|----|----|----\n",
    "A|  50 u.m|60 u.m|10 u.m|500 u\n",
    "B|  25 u.m|40 u.m|20 u.m|400 u\n",
    "Demanda|200|300|400|\n",
    "\n",
    "**¿De qué manera  deben  organizar  el transporte a fin de que los gastos sean mínimos?**\n",
    "\n",
    "\n",
    "Formulemos el problema para ser resuelto por la programación lineal con\n",
    "- $x_1$: unidades transportadas de la factoría \"A\" al centro \"C\"\n",
    "- $x_2$: unidades transportadas de la factoría \"A\" al centro \"D\"\n",
    "- $x_3$: unidades transportadas de la factoría \"A\" al centro \"E\"\n",
    "- $x_4$: unidades transportadas de la factoría \"B\" al centro \"C\"\n",
    "- $x_5$: unidades transportadas de la factoría \"B\" al centro \"D\"\n",
    "- $x_6$: unidades transportadas de la factoría \"B\" al centro \"E\"\n",
    "\n",
    "se tienen las siguientes ecuaciones:\n",
    "\n",
    "Restricciones de la producción:\n",
    "\n",
    "- $x_1 + x_2 + x_3 \\leq 500$\n",
    "- $x_4 + x_5 + x_6 \\leq 400$\n",
    "\n",
    "Restricciones del consumo:\n",
    "\n",
    "- $x_1 + x_4 \\geq 200$\n",
    "- $x_2 + x_5 \\geq 300$\n",
    "- $x_3 + x_6 \\geq 400$\n",
    "\n",
    "La función objetivo será:\n",
    "\n",
    "$$\\min_{x_1,\\dots,x_6}50x_1 + 60x_2 + 10x_3 + 25x_4 + 40x_5 + 20x_6$$\n",
    "\n",
    "Resolver con `linprog`"
   ]
  },
  {
   "cell_type": "code",
   "execution_count": 29,
   "metadata": {},
   "outputs": [],
   "source": [
    "#Matrices"
   ]
  },
  {
   "cell_type": "code",
   "execution_count": 21,
   "metadata": {},
   "outputs": [],
   "source": [
    "# Resolver\n"
   ]
  },
  {
   "cell_type": "code",
   "execution_count": 22,
   "metadata": {},
   "outputs": [],
   "source": [
    "# Mostrar resultado\n"
   ]
  },
  {
   "cell_type": "markdown",
   "metadata": {
    "collapsed": true,
    "jupyter": {
     "outputs_hidden": true
    }
   },
   "source": [
    "**Conclusión**\n",
    "\n",
    "- La estrategia de menor costo es llevar $100$ unidades de la Factoría \"A\" al cento \"D\", $400$ unidades de la Factoría \"A\" al cento \"E\", $200$ unidades de la Factoría \"B\" al cento \"C\" y $200$ unidades de la Factoría \"B\" al cento \"D\". El costo total de esta estrategia de transporte es $23000$  u.m."
   ]
  },
  {
   "cell_type": "markdown",
   "metadata": {},
   "source": [
    "## 6. Optimización de inversión en bonos\n",
    "\n",
    "**Referencia:**"
   ]
  },
  {
   "cell_type": "code",
   "execution_count": 49,
   "metadata": {},
   "outputs": [
    {
     "data": {
      "image/jpeg": "[encoded data removed]",
      "text/html": [
       "\n",
       "        <iframe\n",
       "            width=\"400\"\n",
       "            height=\"300\"\n",
       "            src=\"https://www.youtube.com/embed/gukxBus8lOs\"\n",
       "            frameborder=\"0\"\n",
       "            allowfullscreen\n",
       "            \n",
       "        ></iframe>\n",
       "        "
      ],
      "text/plain": [
       "<IPython.lib.display.YouTubeVideo at 0x7f88016e1910>"
      ]
     },
     "execution_count": 49,
     "metadata": {},
     "output_type": "execute_result"
    }
   ],
   "source": [
    "from IPython.display import YouTubeVideo\n",
    "YouTubeVideo('gukxBus8lOs')"
   ]
  },
  {
   "cell_type": "markdown",
   "metadata": {},
   "source": [
    "El objetivo de este problema es determinar la mejor estrategia de inversión, dados diferentes tipos de bono, la máxima cantidad que puede ser invertida en cada bono, el porcentaje de retorno y los años de madurez. También hay una cantidad fija de dinero disponible ($\\$750,000$). Por lo menos la mitad de este dinero debe ser invertido en bonos con 10 años o más para la madurez. Se puede invertir un máximo del $25\\%$ de esta cantidad en cada bono. Finalmente, hay otra restricción que no permite usar más de $35\\%$ en bonos de alto riesgo.\n",
    "\n",
    "Existen seis (6) opciones de inversión con las letras correspondientes $A_i$\n",
    "\n",
    "1. $A_1$:(Tasa de retorno=$8.65\\%$; Años para la madurez=11, Riesgo=Bajo)\n",
    "1. $A_2$:(Tasa de retorno=$9.50\\%$; Años para la madurez=10, Riesgo=Alto)\n",
    "1. $A_3$:(Tasa de retorno=$10.00\\%$; Años para la madurez=6, Riesgo=Alto)\n",
    "1. $A_4$:(Tasa de retorno=$8.75\\%$; Años para la madurez=10, Riesgo=Bajo)\n",
    "1. $A_5$:(Tasa de retorno=$9.25\\%$; Años para la madurez=7, Riesgo=Alto)\n",
    "1. $A_6$:(Tasa de retorno=$9.00\\%$; Años para la madurez=13, Riesgo=Bajo)\n",
    "\n",
    "Lo que se quiere entonces es maximizar el retorno que deja la inversión.\n",
    "\n",
    "Este problema puede ser resuelto con programación lineal. Formalmente, puede ser descrito como:\n",
    "\n",
    "$$\\max_{A_1,A_2,...,A_6}\\sum^{6}_{i=1} A_iR_i,$$\n",
    "\n",
    "donde $A_i$ representa la cantidad invertida en la opción, y $R_i$ representa la tasa de retorno respectiva."
   ]
  },
  {
   "cell_type": "markdown",
   "metadata": {},
   "source": [
    "Plantear restricciones..."
   ]
  },
  {
   "cell_type": "markdown",
   "metadata": {},
   "source": [
    "#### Funcional de costo (función objetivo)\n",
    "\n",
    "$$\\max_{x_1,...x_6} \\quad (8.65x_1+9.5x_2+10x_3+8.75x_4+9.25x_5+9x_6)/100$$\n",
    "\n",
    "\n",
    "### Restricción de igualdad\n",
    "$$x_1+x_2+x_3+x_4+x_5+x_6 = 750000 $$\n",
    "\n",
    "### Restricciones de desigualdad\n",
    "$$x_1+x_2+x_4+x_6 \\geq 750000/2$$\n",
    "$$ x_2+x_3+x_5 \\leq 0.35(750000)$$"
   ]
  },
  {
   "cell_type": "code",
   "execution_count": null,
   "metadata": {},
   "outputs": [],
   "source": []
  },
  {
   "cell_type": "code",
   "execution_count": 36,
   "metadata": {},
   "outputs": [],
   "source": [
    "opt.linprog?"
   ]
  },
  {
   "cell_type": "code",
   "execution_count": 8,
   "metadata": {},
   "outputs": [],
   "source": [
    "# Matrices y cotas\n",
    "c = -np.array([8.65,9.5,10,8.75,9.25,9])/100\n",
    "\n",
    "# Restricciones de desigualdad\n",
    "A = np.array([[-1,-1,0,-1,0,-1],\n",
    "              [0,1,1,0,1,0]])\n",
    "\n",
    "b = np.array([-750000/2,0.35*750000])\n",
    "\n",
    "# Restricción de igualdad\n",
    "A_eq = np.array([[1,1,1,1,1,1]]) \n",
    "b_eq = 750000\n",
    "\n",
    "# Límites (bounds)\n",
    "bounds = (0,750000*0.25)"
   ]
  },
  {
   "cell_type": "code",
   "execution_count": 10,
   "metadata": {},
   "outputs": [],
   "source": [
    "# Resolver\n",
    "sol_bonos = opt.linprog(c,A,b,A_eq,b_eq,bounds,method='highs')"
   ]
  },
  {
   "cell_type": "code",
   "execution_count": 11,
   "metadata": {},
   "outputs": [
    {
     "data": {
      "text/plain": [
       "        message: Optimization terminated successfully. (HiGHS Status 7: Optimal)\n",
       "        success: True\n",
       "         status: 0\n",
       "            fun: -68887.5\n",
       "              x: [ 1.125e+05  7.500e+04  1.875e+05  1.875e+05  0.000e+00\n",
       "                   1.875e+05]\n",
       "            nit: 3\n",
       "          lower:  residual: [ 1.125e+05  7.500e+04  1.875e+05  1.875e+05\n",
       "                              0.000e+00  1.875e+05]\n",
       "                 marginals: [ 0.000e+00  0.000e+00  0.000e+00  0.000e+00\n",
       "                              2.500e-03  0.000e+00]\n",
       "          upper:  residual: [ 7.500e+04  1.125e+05  0.000e+00  0.000e+00\n",
       "                              1.875e+05  0.000e+00]\n",
       "                 marginals: [ 0.000e+00  0.000e+00 -5.000e-03 -1.000e-03\n",
       "                              0.000e+00 -3.500e-03]\n",
       "          eqlin:  residual: [ 0.000e+00]\n",
       "                 marginals: [-8.650e-02]\n",
       "        ineqlin:  residual: [ 1.875e+05  0.000e+00]\n",
       "                 marginals: [-0.000e+00 -8.500e-03]\n",
       " mip_node_count: 0\n",
       " mip_dual_bound: 0.0\n",
       "        mip_gap: 0.0"
      ]
     },
     "execution_count": 11,
     "metadata": {},
     "output_type": "execute_result"
    }
   ],
   "source": [
    "# Mostrar resultado\n",
    "sol_bonos"
   ]
  },
  {
   "cell_type": "markdown",
   "metadata": {},
   "source": [
    "Recordar que en el problema minimizamos $-\\sum^{6}_{i=1} A_iR_i$. El rendimiento obtenido es entonces:"
   ]
  },
  {
   "cell_type": "code",
   "execution_count": 12,
   "metadata": {},
   "outputs": [
    {
     "data": {
      "text/plain": [
       "array([112500.,  75000., 187500., 187500.,      0., 187500.])"
      ]
     },
     "execution_count": 12,
     "metadata": {},
     "output_type": "execute_result"
    }
   ],
   "source": [
    "sol_bonos.x"
   ]
  },
  {
   "cell_type": "markdown",
   "metadata": {},
   "source": [
    "**Conclusión**\n",
    "\n",
    "- "
   ]
  },
  {
   "cell_type": "markdown",
   "metadata": {},
   "source": [
    "## 7. Diseño de la Dieta Óptima\n",
    "\n",
    "Se quiere producir comida para gatos de la manera más barata, no obstante se debe también asegurar que se cumplan los datos requeridos de analisis nutricional. Por lo que se quiere variar la cantidad de cada ingrediente para cumplir con los estandares nutricionales. Los requisitos que se tienen es que en $100$ gramos, se deben tener **por lo menos** $8$ gramos de proteína y $6$ gramos de grasa. Así mismo, no se debe tener más de $2$ gramos de fibra y $0.4$ gramos de sal.  \n",
    "\n",
    "Los datos nutricionales se pueden obtener de la siguiente tabla:\n",
    "\n",
    "Ingrediente|Proteína|Grasa|Fibra|Sal\n",
    ":----|----|----|----|----\n",
    "Pollo|  10.0%|08.0%|00.1%|00.2%\n",
    "Carne|  20.0%|10.0%|00.5%|00.5%\n",
    "Cordero|15.0%|11.0%|00.5%|00.7%\n",
    "Arroz|  00.0%|01.0%|10.0%|00.2%\n",
    "Trigo|  04.0%|01.0%|15.0%|00.8%\n",
    "Gel|    00.0%|00.0%|00.0%|00.0%\n",
    "\n",
    "Los costos de cada producto son:\n",
    "\n",
    "Ingrediente|Costo por gramo\n",
    ":----|----\n",
    "Pollo|$\\$$0.013\n",
    "Carne|$\\$$0.008\n",
    "Cordero|$\\$$0.010\n",
    "Arroz|$\\$$0.002\n",
    "Trigo|$\\$$0.005\n",
    "Gel|$\\$$0.001    \n",
    "\n",
    "Lo que se busca optimizar en este caso es la cantidad de productos que se debe utilizar en la comida de gato, minimizando el costo total. Para simplificar la notación use las siguientes variables: \n",
    "\n",
    "+ $x_1:$ Gramos de pollo  \n",
    "+ $x_2:$ Gramos de carne  \n",
    "+ $x_3:$ Gramos de cordero  \n",
    "+ $x_4:$ Gramos de arroz  \n",
    "+ $x_5:$ Gramos de trigo  \n",
    "+ $x_6:$ Gramos de gel\n",
    "\n",
    "El objetivo consiste consiste en plantear el problemade programación lineal que permita satisfacer las necesidades alimenticias del gato al tiempo que minimice el costo total y resolverlo con `linprog`."
   ]
  },
  {
   "cell_type": "markdown",
   "metadata": {},
   "source": [
    "## 8. Tarea \n",
    "\n",
    "### 8.1. Otro problema de transporte\n",
    "\n",
    "La empresa Carbones de oriente debe ingresar a la empresa un requerimiento mínimo diario de carbón de $5000$ kg de carbón de alto volátil, $4000$ kg de medio volátil y $3000$ kg de bajo volátil para su debido proceso y trasformación. \n",
    "\n",
    "La entrada de estos se da en la siguiente tabla (los valores corresponden a un viaje en kg): \n",
    "\n",
    "-|Alto volátil|Medio volátil|Bajo volátil\n",
    ":----|----|----|----\n",
    "Mina sur|80|70|65\n",
    "Mina norte|60|50|40\n",
    "Mina central|40|30|20\n",
    "\n",
    "El costo del trasporte de un viaje de cada mina es de 2500 dólares, 1500 dólares y 900 dólares, respectivamente. ¿Cuántos viajes de cada mina se deben recibir a diario para suplir los requerimientos mínimos y generar el menor costo de transporte? \n",
    "\n",
    "Para simplificar la notación use las siguientes variables: \n",
    "\n",
    "+ $x_1:$ Cantidad de viajes de la mina sur  \n",
    "+ $x_2:$ Cantidad de viajes de la mina norte  \n",
    "+ $x_3:$ Cantidad de viajes de la mina central  \n",
    "\n",
    "\n",
    "El objetivo consiste consiste en plantear el problema de programación lineal que permita satisfacer los requerimientos de la empresa Carbones de oriente y resolverlo con `linprog`."
   ]
  },
  {
   "cell_type": "markdown",
   "metadata": {},
   "source": [
    "### 8.2. \n",
    "Una empresa de muebles rústicos fabrica entre muchos otros productos cinco tipos de sillas A, B, C, D Y E, las cuales se venden a precio de $1100$, $1300$, $1200$, $980$ y $1010$ pesos cada una y respectivamente. \n",
    "\n",
    "Las sillas pasan por cinco procesos: corte, ensamblado, lijado, pintado y sellado, para lo cual se dispone máximo de $17$, $11$, $15$, $12$ y $14$ horas respectivamente a la semana para dedicar a estas operaciones a estos productos.\n",
    "\n",
    "Los requerimientos, en horas, para cada una de las sillas está dado en la siguiente tabla:\n",
    "\n",
    "-|Corte|Ensamblado|Lijado|Pintado|Sellado\n",
    ":----|----|----|----|----|----\n",
    "Silla A|3|1|3|1|1\n",
    "Silla B|2|3|2|2|3\n",
    "Silla C|5|2|2|3|1\n",
    "Silla D|2|4|1|1|2\n",
    "Silla E|1|0|2|2|3\n",
    "\n",
    "¿Cuántas sillas de cada tipo se deben fabricar para suplir los requerimientos de disponibiladas semanal y generar la mayor utilidad en ventas? \n",
    "\n",
    "Para simplificar la notación use las siguientes variables: \n",
    "\n",
    "+ $x_A:$ Cantidad de sillas tipo A \n",
    "+ $x_B:$ Cantidad de sillas tipo B \n",
    "+ $x_C:$ Cantidad de sillas tipo C \n",
    "+ $x_D:$ Cantidad de sillas tipo D  \n",
    "+ $x_E:$ Cantidad de sillas tipo E\n",
    "\n",
    "\n",
    "El objetivo consiste consiste en plantear el problemade programación lineal que permita satisfacer los requerimientos de la empresa empresa de muebles y resolverlo con `linprog`.\n"
   ]
  },
  {
   "cell_type": "markdown",
   "metadata": {},
   "source": [
    "### Entegrable:\n",
    "Deben crear un **nuevo** notebook de jupyter (archivo .ipynb) y llamarlo siguiendo los parámetros explicados en la tarea 1, y subirlo a la plataforma. Recuerden que cada integrante del equipo debe escribir la solución a la tarea\n",
    "\n",
    "### FECHA DE ENTREGA TAREA 2: \n",
    "    - LUNES 11 DE SEPTIEMBRE DEL 2023 20:00. \n",
    " \n",
    "    \n",
    "#### ESCRIBIR FUNCIONAL DE COSTO Y RESTRICCIONES EN CELDAS DE MARKDOWN Y CONCLUIR CADA EJERCICIO IGUALMENTE EN UNA CELDA DE MARKDOWN"
   ]
  },
  {
   "cell_type": "code",
   "execution_count": null,
   "metadata": {},
   "outputs": [],
   "source": []
  },
  {
   "cell_type": "markdown",
   "metadata": {},
   "source": [
    "<script>\n",
    "  $(document).ready(function(){\n",
    "    $('div.prompt').hide();\n",
    "    $('div.back-to-top').hide();\n",
    "    $('nav#menubar').hide();\n",
    "    $('.breadcrumb').hide();\n",
    "    $('.hidden-print').hide();\n",
    "  });\n",
    "</script>\n",
    "\n",
    "<footer id=\"attribution\" style=\"float:right; color:#808080; background:#fff;\">\n",
    "Created with Jupyter by Cristian Camilo Zapata Zuluaga and modified by Oscar David Jaramillo Z.\n",
    "</footer>"
   ]
  }
 ],
 "metadata": {
  "kernelspec": {
   "display_name": "Python 3 (ipykernel)",
   "language": "python",
   "name": "python3"
  },
  "language_info": {
   "codemirror_mode": {
    "name": "ipython",
    "version": 3
   },
   "file_extension": ".py",
   "mimetype": "text/x-python",
   "name": "python",
   "nbconvert_exporter": "python",
   "pygments_lexer": "ipython3",
   "version": "3.11.3"
  }
 },
 "nbformat": 4,
 "nbformat_minor": 4
}
